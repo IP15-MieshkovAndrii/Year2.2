{
 "cells": [
  {
   "cell_type": "code",
   "execution_count": 134,
   "metadata": {},
   "outputs": [
    {
     "name": "stderr",
     "output_type": "stream",
     "text": [
      "[nltk_data] Downloading package stopwords to\n",
      "[nltk_data]     /Users/andrey/nltk_data...\n",
      "[nltk_data]   Package stopwords is already up-to-date!\n",
      "[nltk_data] Downloading package punkt to /Users/andrey/nltk_data...\n",
      "[nltk_data]   Package punkt is already up-to-date!\n"
     ]
    }
   ],
   "source": [
    "import nltk\n",
    "nltk.download('stopwords')\n",
    "nltk.download('punkt')\n",
    "from bs4 import BeautifulSoup\n",
    "import re\n",
    "from nltk.tokenize import word_tokenize\n",
    "import spacy\n",
    "from sklearn.feature_extraction.text import CountVectorizer, TfidfVectorizer\n",
    "from typing import List"
   ]
  },
  {
   "cell_type": "code",
   "execution_count": 135,
   "metadata": {},
   "outputs": [],
   "source": [
    "# Зчитуємо HTML-файл та витягуємо текст з тегів <p>, <h2> та <h1>\n",
    "with open('kotsiubynskyy-mykhaylo-mykhaylovych-tini-zabutykh-predkiv1058.html', 'r', encoding='utf-8') as f:\n",
    "    soup = BeautifulSoup(f, 'html.parser')\n",
    "    paragraphs = soup.find_all(['p', 'h1', 'h2'])\n",
    "    text = '\\n'.join([p.get_text() for p in paragraphs])"
   ]
  },
  {
   "cell_type": "code",
   "execution_count": 136,
   "metadata": {},
   "outputs": [],
   "source": [
    "def write(tokens: List[str], filename: str) -> None:\n",
    "    with open(filename, 'w', encoding='utf-8') as f:\n",
    "        f.write('\\n'.join(tokens))\n",
    "#список слів з їх частотами\n",
    "def word_list_to_freq_dict(wordlist):\n",
    "    res = {}\n",
    "    for word in wordlist:\n",
    "        if word not in res:\n",
    "            res[word] = 1\n",
    "        else:\n",
    "            res[word] += 1\n",
    "    return res"
   ]
  },
  {
   "cell_type": "code",
   "execution_count": 137,
   "metadata": {},
   "outputs": [],
   "source": [
    "# Очищаємо текст від знаків пунктуації та цифр\n",
    "text = re.sub(r\"[^\\w\\s]\", '', text)\n",
    "text = re.sub(r\"\\d+\", '', text)"
   ]
  },
  {
   "cell_type": "code",
   "execution_count": 138,
   "metadata": {},
   "outputs": [],
   "source": [
    "# Токенізація тексту\n",
    "text = word_tokenize(text)"
   ]
  },
  {
   "cell_type": "code",
   "execution_count": 139,
   "metadata": {},
   "outputs": [],
   "source": [
    "# Завантажуємо список стоп-слів\n",
    "nlp = spacy.load('uk_core_news_sm')\n",
    "stop_words = nlp.Defaults.stop_words"
   ]
  },
  {
   "cell_type": "code",
   "execution_count": 140,
   "metadata": {},
   "outputs": [],
   "source": [
    "# лематизація текстових елементів\n",
    "lemmatized_words = [doc.lemma_ for doc in nlp(' '.join(text))]"
   ]
  },
  {
   "cell_type": "code",
   "execution_count": 141,
   "metadata": {},
   "outputs": [],
   "source": [
    "# Виконуємо очищення тексту від стоп-слів\n",
    "text = [word for word in lemmatized_words if word not in stop_words and re.match(r'\\w+', word)]\n",
    "write(text,\"Lemmatisation.txt\")"
   ]
  },
  {
   "cell_type": "code",
   "execution_count": 142,
   "metadata": {},
   "outputs": [],
   "source": [
    "# Ініціалізуємо об'єкт CountVectorizer\n",
    "vectorizer = CountVectorizer()\n",
    "# Виконуємо векторизацію тексту\n",
    "bag_of_words = vectorizer.fit_transform(text)\n",
    "# Отримуємо список всіх слів у \"Bag of Words\"\n",
    "word_list = vectorizer.get_feature_names_out()\n",
    "write(word_list,\"Bag of Words.text\")"
   ]
  },
  {
   "cell_type": "code",
   "execution_count": 143,
   "metadata": {},
   "outputs": [],
   "source": [
    "# Ініціалізуємо об'єкт TfidfVectorizer\n",
    "top_words = word_list_to_freq_dict(text)\n",
    "top_words_list = sorted(top_words.items(), key=lambda x: x[1], reverse=True)[:10]\n",
    "top_words_only = [word for word, _ in top_words_list]\n",
    "text = \" \".join(text)"
   ]
  },
  {
   "cell_type": "code",
   "execution_count": 144,
   "metadata": {},
   "outputs": [
    {
     "name": "stdout",
     "output_type": "stream",
     "text": [
      "Слово: іван, TF-IDF: 0.6143246159081622\n",
      "Слово: гора, TF-IDF: 0.3751915439439112\n",
      "Слово: свій, TF-IDF: 0.2721169439593202\n",
      "Слово: ліс, TF-IDF: 0.251502023962402\n",
      "Слово: марічка, TF-IDF: 0.251502023962402\n",
      "Слово: око, TF-IDF: 0.24737903996301835\n",
      "Слово: нога, TF-IDF: 0.24737903996301835\n",
      "Слово: од, TF-IDF: 0.251502023962402\n",
      "Слово: рука, TF-IDF: 0.22676411996610016\n",
      "Слово: вівця, TF-IDF: 0.2102721839685656\n"
     ]
    }
   ],
   "source": [
    "vectorizer = TfidfVectorizer(vocabulary=top_words_only)\n",
    "tfidf_matrix = vectorizer.fit_transform([text])\n",
    "tfidf_values = tfidf_matrix.toarray()[0]\n",
    "\n",
    "word_tfidf = dict(zip(top_words_only, tfidf_values))\n",
    "\n",
    "# Виводимо слова та значения метрики TF-IDF\n",
    "for word, tfidf in word_tfidf.items():\n",
    "    print(f\"Слово: {word}, TF-IDF: {tfidf}\")"
   ]
  }
 ],
 "metadata": {
  "kernelspec": {
   "display_name": "Python 3",
   "language": "python",
   "name": "python3"
  },
  "language_info": {
   "codemirror_mode": {
    "name": "ipython",
    "version": 3
   },
   "file_extension": ".py",
   "mimetype": "text/x-python",
   "name": "python",
   "nbconvert_exporter": "python",
   "pygments_lexer": "ipython3",
   "version": "3.9.6"
  },
  "orig_nbformat": 4
 },
 "nbformat": 4,
 "nbformat_minor": 2
}
