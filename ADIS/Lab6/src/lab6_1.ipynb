{
 "cells": [
  {
   "cell_type": "code",
   "execution_count": 291,
   "metadata": {},
   "outputs": [],
   "source": [
    "import pandas as pd\n",
    "import matplotlib.pyplot as plt\n",
    "from sklearn.cluster import KMeans\n",
    "import plotly.express as px\n",
    "\n"
   ]
  },
  {
   "cell_type": "code",
   "execution_count": 292,
   "metadata": {},
   "outputs": [],
   "source": [
    "df = pd.read_csv('Data2.csv', sep=';', encoding='cp1252')"
   ]
  },
  {
   "cell_type": "code",
   "execution_count": 293,
   "metadata": {},
   "outputs": [
    {
     "name": "stdout",
     "output_type": "stream",
     "text": [
      "<class 'pandas.core.frame.DataFrame'>\n",
      "RangeIndex: 217 entries, 0 to 216\n",
      "Data columns (total 6 columns):\n",
      " #   Column          Non-Null Count  Dtype  \n",
      "---  ------          --------------  -----  \n",
      " 0   Country Name    217 non-null    object \n",
      " 1   Region          217 non-null    object \n",
      " 2   GDP per capita  190 non-null    object \n",
      " 3   Populatiion     216 non-null    float64\n",
      " 4   CO2 emission    205 non-null    object \n",
      " 5   Area            217 non-null    object \n",
      "dtypes: float64(1), object(5)\n",
      "memory usage: 10.3+ KB\n"
     ]
    }
   ],
   "source": [
    "df.info()\n"
   ]
  },
  {
   "cell_type": "code",
   "execution_count": 294,
   "metadata": {},
   "outputs": [],
   "source": [
    "df.rename(columns={\"Populatiion\": \"Population\"}, inplace=True)"
   ]
  },
  {
   "cell_type": "code",
   "execution_count": 295,
   "metadata": {},
   "outputs": [],
   "source": [
    "df['Area'] = df['Area'].str.replace(',', '.').astype(float)\n",
    "df[\"GDP per capita\"] = df[\"GDP per capita\"].str.replace(',', '.').astype(float)\n",
    "df[\"CO2 emission\"] = df[\"CO2 emission\"].str.replace(',', '.').astype(float)"
   ]
  },
  {
   "cell_type": "code",
   "execution_count": 296,
   "metadata": {},
   "outputs": [
    {
     "name": "stderr",
     "output_type": "stream",
     "text": [
      "/var/folders/pl/17z0ddz94xs40jk4spqp7bwc0000gn/T/ipykernel_61526/2024429878.py:3: SettingWithCopyWarning:\n",
      "\n",
      "\n",
      "A value is trying to be set on a copy of a slice from a DataFrame.\n",
      "Try using .loc[row_indexer,col_indexer] = value instead\n",
      "\n",
      "See the caveats in the documentation: https://pandas.pydata.org/pandas-docs/stable/user_guide/indexing.html#returning-a-view-versus-a-copy\n",
      "\n",
      "/var/folders/pl/17z0ddz94xs40jk4spqp7bwc0000gn/T/ipykernel_61526/2024429878.py:4: SettingWithCopyWarning:\n",
      "\n",
      "\n",
      "A value is trying to be set on a copy of a slice from a DataFrame.\n",
      "Try using .loc[row_indexer,col_indexer] = value instead\n",
      "\n",
      "See the caveats in the documentation: https://pandas.pydata.org/pandas-docs/stable/user_guide/indexing.html#returning-a-view-versus-a-copy\n",
      "\n",
      "/var/folders/pl/17z0ddz94xs40jk4spqp7bwc0000gn/T/ipykernel_61526/2024429878.py:7: FutureWarning:\n",
      "\n",
      "The default value of numeric_only in DataFrame.mean is deprecated. In a future version, it will default to False. In addition, specifying 'numeric_only=None' is deprecated. Select only valid columns or specify the value of numeric_only to silence this warning.\n",
      "\n"
     ]
    },
    {
     "data": {
      "text/html": [
       "<div>\n",
       "<style scoped>\n",
       "    .dataframe tbody tr th:only-of-type {\n",
       "        vertical-align: middle;\n",
       "    }\n",
       "\n",
       "    .dataframe tbody tr th {\n",
       "        vertical-align: top;\n",
       "    }\n",
       "\n",
       "    .dataframe thead th {\n",
       "        text-align: right;\n",
       "    }\n",
       "</style>\n",
       "<table border=\"1\" class=\"dataframe\">\n",
       "  <thead>\n",
       "    <tr style=\"text-align: right;\">\n",
       "      <th></th>\n",
       "      <th>Country Name</th>\n",
       "      <th>Region</th>\n",
       "      <th>GDP per capita</th>\n",
       "      <th>Population</th>\n",
       "      <th>CO2 emission</th>\n",
       "      <th>Area</th>\n",
       "    </tr>\n",
       "  </thead>\n",
       "  <tbody>\n",
       "    <tr>\n",
       "      <th>0</th>\n",
       "      <td>Afghanistan</td>\n",
       "      <td>South Asia</td>\n",
       "      <td>561.778746</td>\n",
       "      <td>34656032.0</td>\n",
       "      <td>9809.225000</td>\n",
       "      <td>652860.0</td>\n",
       "    </tr>\n",
       "    <tr>\n",
       "      <th>1</th>\n",
       "      <td>Albania</td>\n",
       "      <td>Europe &amp; Central Asia</td>\n",
       "      <td>4124.982390</td>\n",
       "      <td>2876101.0</td>\n",
       "      <td>5716.853000</td>\n",
       "      <td>28750.0</td>\n",
       "    </tr>\n",
       "    <tr>\n",
       "      <th>2</th>\n",
       "      <td>Algeria</td>\n",
       "      <td>Middle East &amp; North Africa</td>\n",
       "      <td>3916.881571</td>\n",
       "      <td>40606052.0</td>\n",
       "      <td>145400.217000</td>\n",
       "      <td>2381740.0</td>\n",
       "    </tr>\n",
       "    <tr>\n",
       "      <th>3</th>\n",
       "      <td>American Samoa</td>\n",
       "      <td>East Asia &amp; Pacific</td>\n",
       "      <td>11834.745230</td>\n",
       "      <td>55599.0</td>\n",
       "      <td>165114.116337</td>\n",
       "      <td>200.0</td>\n",
       "    </tr>\n",
       "    <tr>\n",
       "      <th>4</th>\n",
       "      <td>Andorra</td>\n",
       "      <td>Europe &amp; Central Asia</td>\n",
       "      <td>36988.622030</td>\n",
       "      <td>77281.0</td>\n",
       "      <td>462.042000</td>\n",
       "      <td>470.0</td>\n",
       "    </tr>\n",
       "  </tbody>\n",
       "</table>\n",
       "</div>"
      ],
      "text/plain": [
       "     Country Name                      Region  GDP per capita  Population  \\\n",
       "0     Afghanistan                  South Asia      561.778746  34656032.0   \n",
       "1         Albania       Europe & Central Asia     4124.982390   2876101.0   \n",
       "2         Algeria  Middle East & North Africa     3916.881571  40606052.0   \n",
       "3  American Samoa         East Asia & Pacific    11834.745230     55599.0   \n",
       "4         Andorra       Europe & Central Asia    36988.622030     77281.0   \n",
       "\n",
       "    CO2 emission       Area  \n",
       "0    9809.225000   652860.0  \n",
       "1    5716.853000    28750.0  \n",
       "2  145400.217000  2381740.0  \n",
       "3  165114.116337      200.0  \n",
       "4     462.042000      470.0  "
      ]
     },
     "execution_count": 296,
     "metadata": {},
     "output_type": "execute_result"
    }
   ],
   "source": [
    "fix_gdp = df[df['GDP per capita'] < 0]\n",
    "area_gdp = df[df['Area'] < 0]\n",
    "fix_gdp['GDP per capita'] *= -1\n",
    "area_gdp['Area'] *= -1\n",
    "df[df['GDP per capita'] < 0] = fix_gdp\n",
    "df[df['Area'] < 0] = area_gdp\n",
    "df = df.fillna(df.mean())\n",
    "\n",
    "\n",
    "df.head()"
   ]
  },
  {
   "cell_type": "code",
   "execution_count": 297,
   "metadata": {},
   "outputs": [],
   "source": [
    "df['Population density'] = df['Population'] / df['Area']"
   ]
  },
  {
   "cell_type": "code",
   "execution_count": 298,
   "metadata": {},
   "outputs": [
    {
     "name": "stdout",
     "output_type": "stream",
     "text": [
      "\n",
      "\n",
      "\n",
      "Dominant region for GDP per capita cluster:  Europe & Central Asia\n",
      "Dominant region for population density cluster:  East Asia & Pacific\n",
      "\n",
      "\n",
      "\n"
     ]
    },
    {
     "name": "stderr",
     "output_type": "stream",
     "text": [
      "/var/folders/pl/17z0ddz94xs40jk4spqp7bwc0000gn/T/ipykernel_61526/1526395345.py:19: FutureWarning:\n",
      "\n",
      "The default value of numeric_only in DataFrameGroupBy.mean is deprecated. In a future version, numeric_only will default to False. Either specify numeric_only or select only columns which should be valid for the function.\n",
      "\n"
     ]
    }
   ],
   "source": [
    "# Selecting the features for clustering\n",
    "X = df[['GDP per capita', 'Population density']]\n",
    "\n",
    "km_kwargs = {\n",
    "    'init': 'random',\n",
    "    'n_clusters': 4,\n",
    "    'n_init': 10,\n",
    "    'max_iter': 300,\n",
    "    'random_state': 42,\n",
    "}\n",
    "# Using KMeans clustering algorithm to cluster the data\n",
    "km = KMeans(**km_kwargs)\n",
    "km.fit(X)\n",
    "\n",
    "# Adding the predicted cluster labels to the original data\n",
    "df['Cluster'] = km.labels_\n",
    "\n",
    "# Grouping the data by region and cluster and calculating the mean for each group\n",
    "region_cluster_means = df.groupby(['Region', 'Cluster']).mean()\n",
    "\n",
    "# Sorting the data by GDP per capita and population density\n",
    "sorted_data = region_cluster_means.sort_values(['GDP per capita', 'Population density'], ascending=False)\n",
    "\n",
    "# Displaying the dominant region for GDP per capita and population density clusters\n",
    "print('\\n\\n')\n",
    "print(\"Dominant region for GDP per capita cluster: \", sorted_data.loc[sorted_data['GDP per capita'].idxmax()].name[0])\n",
    "print(\"Dominant region for population density cluster: \", sorted_data.loc[sorted_data['Population density'].idxmax()].name[0])\n",
    "print('\\n\\n')"
   ]
  },
  {
   "cell_type": "code",
   "execution_count": 299,
   "metadata": {},
   "outputs": [
    {
     "data": {
      "application/vnd.plotly.v1+json": {
       "config": {
        "plotlyServerURL": "https://plot.ly"
       },
       "data": [
        {
         "customdata": [
          [
           "Afghanistan",
           "South Asia"
          ],
          [
           "Albania",
           "Europe & Central Asia"
          ],
          [
           "Algeria",
           "Middle East & North Africa"
          ],
          [
           "American Samoa",
           "East Asia & Pacific"
          ],
          [
           "Andorra",
           "Europe & Central Asia"
          ],
          [
           "Angola",
           "Sub-Saharan Africa"
          ],
          [
           "Antigua and Barbuda",
           "Latin America & Caribbean"
          ],
          [
           "Argentina",
           "Latin America & Caribbean"
          ],
          [
           "Armenia",
           "Europe & Central Asia"
          ],
          [
           "Aruba",
           "Latin America & Caribbean"
          ],
          [
           "Australia",
           "East Asia & Pacific"
          ],
          [
           "Austria",
           "Europe & Central Asia"
          ],
          [
           "Azerbaijan",
           "Europe & Central Asia"
          ],
          [
           "Bahamas, The",
           "Latin America & Caribbean"
          ],
          [
           "Bahrain",
           "Middle East & North Africa"
          ],
          [
           "Bangladesh",
           "South Asia"
          ],
          [
           "Barbados",
           "Latin America & Caribbean"
          ],
          [
           "Belarus",
           "Europe & Central Asia"
          ],
          [
           "Belgium",
           "Europe & Central Asia"
          ],
          [
           "Belize",
           "Latin America & Caribbean"
          ],
          [
           "Benin",
           "Sub-Saharan Africa"
          ],
          [
           "Bermuda",
           "North America"
          ],
          [
           "Bhutan",
           "South Asia"
          ],
          [
           "Bolivia",
           "Latin America & Caribbean"
          ],
          [
           "Bosnia and Herzegovina",
           "Europe & Central Asia"
          ],
          [
           "Botswana",
           "Sub-Saharan Africa"
          ],
          [
           "Brazil",
           "Latin America & Caribbean"
          ],
          [
           "British Virgin Islands",
           "Latin America & Caribbean"
          ],
          [
           "Brunei Darussalam",
           "East Asia & Pacific"
          ],
          [
           "Bulgaria",
           "Europe & Central Asia"
          ],
          [
           "Burkina Faso",
           "Sub-Saharan Africa"
          ],
          [
           "Burundi",
           "Sub-Saharan Africa"
          ],
          [
           "Cabo Verde",
           "Sub-Saharan Africa"
          ],
          [
           "Cambodia",
           "East Asia & Pacific"
          ],
          [
           "Cameroon",
           "Sub-Saharan Africa"
          ],
          [
           "Canada",
           "North America"
          ],
          [
           "Cayman Islands",
           "Latin America & Caribbean"
          ],
          [
           "Central African Republic",
           "Sub-Saharan Africa"
          ],
          [
           "Chad",
           "Sub-Saharan Africa"
          ],
          [
           "Channel Islands",
           "Europe & Central Asia"
          ],
          [
           "Chile",
           "Latin America & Caribbean"
          ],
          [
           "China",
           "East Asia & Pacific"
          ],
          [
           "Colombia",
           "Latin America & Caribbean"
          ],
          [
           "Comoros",
           "Sub-Saharan Africa"
          ],
          [
           "Congo, Dem. Rep.",
           "Sub-Saharan Africa"
          ],
          [
           "Congo, Rep.",
           "Sub-Saharan Africa"
          ],
          [
           "Costa Rica",
           "Latin America & Caribbean"
          ],
          [
           "Cote d'Ivoire",
           "Sub-Saharan Africa"
          ],
          [
           "Croatia",
           "Europe & Central Asia"
          ],
          [
           "Cuba",
           "Latin America & Caribbean"
          ],
          [
           "Curacao",
           "Latin America & Caribbean"
          ],
          [
           "Cyprus",
           "Europe & Central Asia"
          ],
          [
           "Czech Republic",
           "Europe & Central Asia"
          ],
          [
           "Denmark",
           "Europe & Central Asia"
          ],
          [
           "Djibouti",
           "Middle East & North Africa"
          ],
          [
           "Dominica",
           "Latin America & Caribbean"
          ],
          [
           "Dominican Republic",
           "Latin America & Caribbean"
          ],
          [
           "Ecuador",
           "Latin America & Caribbean"
          ],
          [
           "Egypt, Arab Rep.",
           "Middle East & North Africa"
          ],
          [
           "El Salvador",
           "Latin America & Caribbean"
          ],
          [
           "Equatorial Guinea",
           "Sub-Saharan Africa"
          ],
          [
           "Eritrea",
           "Sub-Saharan Africa"
          ],
          [
           "Estonia",
           "Europe & Central Asia"
          ],
          [
           "Ethiopia",
           "Sub-Saharan Africa"
          ],
          [
           "Faroe Islands",
           "Europe & Central Asia"
          ],
          [
           "Fiji",
           "East Asia & Pacific"
          ],
          [
           "Finland",
           "Europe & Central Asia"
          ],
          [
           "France",
           "Europe & Central Asia"
          ],
          [
           "French Polynesia",
           "East Asia & Pacific"
          ],
          [
           "Gabon",
           "Sub-Saharan Africa"
          ],
          [
           "Gambia, The",
           "Sub-Saharan Africa"
          ],
          [
           "Georgia",
           "Europe & Central Asia"
          ],
          [
           "Germany",
           "Europe & Central Asia"
          ],
          [
           "Ghana",
           "Sub-Saharan Africa"
          ],
          [
           "Gibraltar",
           "Europe & Central Asia"
          ],
          [
           "Greece",
           "Europe & Central Asia"
          ],
          [
           "Greenland",
           "Europe & Central Asia"
          ],
          [
           "Grenada",
           "Latin America & Caribbean"
          ],
          [
           "Guam",
           "East Asia & Pacific"
          ],
          [
           "Guatemala",
           "Latin America & Caribbean"
          ],
          [
           "Guinea",
           "Sub-Saharan Africa"
          ],
          [
           "Guinea-Bissau",
           "Sub-Saharan Africa"
          ],
          [
           "Guyana",
           "Latin America & Caribbean"
          ],
          [
           "Haiti",
           "Latin America & Caribbean"
          ],
          [
           "Honduras",
           "Latin America & Caribbean"
          ],
          [
           "Hong Kong SAR, China",
           "East Asia & Pacific"
          ],
          [
           "Hungary",
           "Europe & Central Asia"
          ],
          [
           "Iceland",
           "Europe & Central Asia"
          ],
          [
           "India",
           "South Asia"
          ],
          [
           "Indonesia",
           "East Asia & Pacific"
          ],
          [
           "Iran, Islamic Rep.",
           "Middle East & North Africa"
          ],
          [
           "Iraq",
           "Middle East & North Africa"
          ],
          [
           "Ireland",
           "Europe & Central Asia"
          ],
          [
           "Isle of Man",
           "Europe & Central Asia"
          ],
          [
           "Israel",
           "Middle East & North Africa"
          ],
          [
           "Italy",
           "Europe & Central Asia"
          ],
          [
           "Jamaica",
           "Latin America & Caribbean"
          ],
          [
           "Japan",
           "East Asia & Pacific"
          ],
          [
           "Jordan",
           "Middle East & North Africa"
          ],
          [
           "Kazakhstan",
           "Europe & Central Asia"
          ],
          [
           "Kenya",
           "Sub-Saharan Africa"
          ],
          [
           "Kiribati",
           "East Asia & Pacific"
          ],
          [
           "Korea, Dem. People’s Rep.",
           "East Asia & Pacific"
          ],
          [
           "Korea, Rep.",
           "East Asia & Pacific"
          ],
          [
           "Kosovo",
           "Europe & Central Asia"
          ],
          [
           "Kuwait",
           "Middle East & North Africa"
          ],
          [
           "Kyrgyz Republic",
           "Europe & Central Asia"
          ],
          [
           "Lao PDR",
           "East Asia & Pacific"
          ],
          [
           "Latvia",
           "Europe & Central Asia"
          ],
          [
           "Lebanon",
           "Middle East & North Africa"
          ],
          [
           "Lesotho",
           "Sub-Saharan Africa"
          ],
          [
           "Liberia",
           "Sub-Saharan Africa"
          ],
          [
           "Libya",
           "Middle East & North Africa"
          ],
          [
           "Liechtenstein",
           "Europe & Central Asia"
          ],
          [
           "Lithuania",
           "Europe & Central Asia"
          ],
          [
           "Luxembourg",
           "Europe & Central Asia"
          ],
          [
           "Macao SAR, China",
           "East Asia & Pacific"
          ],
          [
           "Macedonia, FYR",
           "Europe & Central Asia"
          ],
          [
           "Madagascar",
           "Sub-Saharan Africa"
          ],
          [
           "Malawi",
           "Sub-Saharan Africa"
          ],
          [
           "Malaysia",
           "East Asia & Pacific"
          ],
          [
           "Maldives",
           "South Asia"
          ],
          [
           "Mali",
           "Sub-Saharan Africa"
          ],
          [
           "Malta",
           "Middle East & North Africa"
          ],
          [
           "Marshall Islands",
           "East Asia & Pacific"
          ],
          [
           "Mauritania",
           "Sub-Saharan Africa"
          ],
          [
           "Mauritius",
           "Sub-Saharan Africa"
          ],
          [
           "Mexico",
           "Latin America & Caribbean"
          ],
          [
           "Micronesia, Fed. Sts.",
           "East Asia & Pacific"
          ],
          [
           "Moldova",
           "Europe & Central Asia"
          ],
          [
           "Monaco",
           "Europe & Central Asia"
          ],
          [
           "Mongolia",
           "East Asia & Pacific"
          ],
          [
           "Montenegro",
           "Europe & Central Asia"
          ],
          [
           "Morocco",
           "Middle East & North Africa"
          ],
          [
           "Mozambique",
           "Sub-Saharan Africa"
          ],
          [
           "Myanmar",
           "East Asia & Pacific"
          ],
          [
           "Namibia",
           "Sub-Saharan Africa"
          ],
          [
           "Nauru",
           "East Asia & Pacific"
          ],
          [
           "Nepal",
           "South Asia"
          ],
          [
           "Netherlands",
           "Europe & Central Asia"
          ],
          [
           "New Caledonia",
           "East Asia & Pacific"
          ],
          [
           "New Zealand",
           "East Asia & Pacific"
          ],
          [
           "Nicaragua",
           "Latin America & Caribbean"
          ],
          [
           "Niger",
           "Sub-Saharan Africa"
          ],
          [
           "Nigeria",
           "Sub-Saharan Africa"
          ],
          [
           "Northern Mariana Islands",
           "East Asia & Pacific"
          ],
          [
           "Norway",
           "Europe & Central Asia"
          ],
          [
           "Oman",
           "Middle East & North Africa"
          ],
          [
           "Pakistan",
           "South Asia"
          ],
          [
           "Palau",
           "East Asia & Pacific"
          ],
          [
           "Panama",
           "Latin America & Caribbean"
          ],
          [
           "Papua New Guinea",
           "East Asia & Pacific"
          ],
          [
           "Paraguay",
           "Latin America & Caribbean"
          ],
          [
           "Peru",
           "Latin America & Caribbean"
          ],
          [
           "Philippines",
           "East Asia & Pacific"
          ],
          [
           "Poland",
           "Europe & Central Asia"
          ],
          [
           "Portugal",
           "Europe & Central Asia"
          ],
          [
           "Puerto Rico",
           "Latin America & Caribbean"
          ],
          [
           "Qatar",
           "Middle East & North Africa"
          ],
          [
           "Romania",
           "Europe & Central Asia"
          ],
          [
           "Russian Federation",
           "Europe & Central Asia"
          ],
          [
           "Rwanda",
           "Sub-Saharan Africa"
          ],
          [
           "Samoa",
           "East Asia & Pacific"
          ],
          [
           "San Marino",
           "Europe & Central Asia"
          ],
          [
           "Sao Tome and Principe",
           "Sub-Saharan Africa"
          ],
          [
           "Saudi Arabia",
           "Middle East & North Africa"
          ],
          [
           "Senegal",
           "Sub-Saharan Africa"
          ],
          [
           "Serbia",
           "Europe & Central Asia"
          ],
          [
           "Seychelles",
           "Sub-Saharan Africa"
          ],
          [
           "Sierra Leone",
           "Sub-Saharan Africa"
          ],
          [
           "Singapore",
           "East Asia & Pacific"
          ],
          [
           "Sint Maarten (Dutch part)",
           "Latin America & Caribbean"
          ],
          [
           "Slovak Republic",
           "Europe & Central Asia"
          ],
          [
           "Slovenia",
           "Europe & Central Asia"
          ],
          [
           "Solomon Islands",
           "East Asia & Pacific"
          ],
          [
           "Somalia",
           "Sub-Saharan Africa"
          ],
          [
           "South Africa",
           "Sub-Saharan Africa"
          ],
          [
           "South Sudan",
           "Sub-Saharan Africa"
          ],
          [
           "Spain",
           "Europe & Central Asia"
          ],
          [
           "Sri Lanka",
           "South Asia"
          ],
          [
           "St. Kitts and Nevis",
           "Latin America & Caribbean"
          ],
          [
           "St. Lucia",
           "Latin America & Caribbean"
          ],
          [
           "St. Martin (French part)",
           "Latin America & Caribbean"
          ],
          [
           "St. Vincent and the Grenadines",
           "Latin America & Caribbean"
          ],
          [
           "Sudan",
           "Sub-Saharan Africa"
          ],
          [
           "Suriname",
           "Latin America & Caribbean"
          ],
          [
           "Swaziland",
           "Sub-Saharan Africa"
          ],
          [
           "Sweden",
           "Europe & Central Asia"
          ],
          [
           "Switzerland",
           "Europe & Central Asia"
          ],
          [
           "Syrian Arab Republic",
           "Middle East & North Africa"
          ],
          [
           "Tajikistan",
           "Europe & Central Asia"
          ],
          [
           "Tanzania",
           "Sub-Saharan Africa"
          ],
          [
           "Thailand",
           "East Asia & Pacific"
          ],
          [
           "Timor-Leste",
           "East Asia & Pacific"
          ],
          [
           "Togo",
           "Sub-Saharan Africa"
          ],
          [
           "Tonga",
           "East Asia & Pacific"
          ],
          [
           "Trinidad and Tobago",
           "Latin America & Caribbean"
          ],
          [
           "Tunisia",
           "Middle East & North Africa"
          ],
          [
           "Turkey",
           "Europe & Central Asia"
          ],
          [
           "Turkmenistan",
           "Europe & Central Asia"
          ],
          [
           "Turks and Caicos Islands",
           "Latin America & Caribbean"
          ],
          [
           "Tuvalu",
           "East Asia & Pacific"
          ],
          [
           "Uganda",
           "Sub-Saharan Africa"
          ],
          [
           "Ukraine",
           "Europe & Central Asia"
          ],
          [
           "United Arab Emirates",
           "Middle East & North Africa"
          ],
          [
           "United Kingdom",
           "Europe & Central Asia"
          ],
          [
           "United States",
           "North America"
          ],
          [
           "Uruguay",
           "Latin America & Caribbean"
          ],
          [
           "Uzbekistan",
           "Europe & Central Asia"
          ],
          [
           "Vanuatu",
           "East Asia & Pacific"
          ],
          [
           "Venezuela, RB",
           "Latin America & Caribbean"
          ],
          [
           "Vietnam",
           "East Asia & Pacific"
          ],
          [
           "Virgin Islands (U.S.)",
           "Latin America & Caribbean"
          ],
          [
           "West Bank and Gaza",
           "Middle East & North Africa"
          ],
          [
           "Yemen, Rep.",
           "Middle East & North Africa"
          ],
          [
           "Zambia",
           "Sub-Saharan Africa"
          ],
          [
           "Zimbabwe",
           "Sub-Saharan Africa"
          ]
         ],
         "hovertemplate": "GDP per capita=%{x}<br>Population density=%{y}<br>Country Name=%{customdata[0]}<br>Region=%{customdata[1]}<br>color=%{marker.color}<extra></extra>",
         "legendgroup": "",
         "marker": {
          "color": [
           3,
           3,
           3,
           1,
           2,
           3,
           1,
           1,
           3,
           1,
           2,
           2,
           3,
           2,
           1,
           3,
           1,
           3,
           2,
           3,
           3,
           1,
           3,
           3,
           3,
           3,
           1,
           1,
           2,
           3,
           3,
           3,
           3,
           3,
           3,
           2,
           1,
           3,
           3,
           1,
           1,
           3,
           3,
           3,
           3,
           3,
           1,
           3,
           1,
           1,
           1,
           1,
           1,
           0,
           1,
           3,
           3,
           3,
           3,
           3,
           1,
           1,
           1,
           3,
           1,
           3,
           2,
           2,
           1,
           3,
           3,
           3,
           2,
           3,
           1,
           1,
           1,
           1,
           2,
           3,
           3,
           3,
           3,
           3,
           3,
           2,
           1,
           0,
           3,
           3,
           3,
           3,
           0,
           1,
           2,
           2,
           3,
           2,
           3,
           3,
           3,
           3,
           1,
           2,
           3,
           2,
           3,
           3,
           1,
           3,
           3,
           3,
           1,
           1,
           1,
           0,
           0,
           3,
           3,
           3,
           1,
           1,
           3,
           1,
           3,
           3,
           1,
           3,
           3,
           3,
           1,
           3,
           3,
           3,
           3,
           3,
           3,
           3,
           3,
           2,
           1,
           2,
           3,
           1,
           3,
           1,
           0,
           1,
           3,
           1,
           1,
           3,
           3,
           3,
           3,
           1,
           1,
           2,
           0,
           1,
           1,
           3,
           3,
           2,
           3,
           1,
           3,
           3,
           1,
           3,
           0,
           1,
           1,
           1,
           3,
           3,
           3,
           1,
           2,
           3,
           1,
           1,
           1,
           3,
           3,
           3,
           3,
           2,
           0,
           1,
           3,
           3,
           3,
           3,
           3,
           3,
           1,
           3,
           1,
           3,
           1,
           3,
           3,
           3,
           2,
           2,
           0,
           1,
           3,
           3,
           1,
           3,
           1,
           3,
           3,
           3,
           3
          ],
          "coloraxis": "coloraxis",
          "symbol": "circle"
         },
         "mode": "markers",
         "name": "",
         "orientation": "v",
         "showlegend": false,
         "type": "scatter",
         "x": [
          561.7787463,
          4124.98239,
          3916.881571,
          11834.74523,
          36988.62203,
          3308.700233,
          14462.17628,
          12440.32098,
          3614.688357,
          13445.593416057367,
          49755.31548,
          44757.6349,
          3878.709257,
          28785.47767,
          22579.09342,
          1358.779029,
          15891.62655,
          4989.427763,
          41271.48215,
          4744.736397,
          789.4404107,
          13445.593416057367,
          2773.547135,
          3104.956089,
          4808.405425,
          6924.149775,
          8649.948492,
          13445.593416057367,
          26939.41751,
          7469.025247,
          627.1030788,
          285.7274421,
          2997.75268,
          1269.907238,
          1374.514172,
          42183.2951,
          13445.593416057367,
          382.2131743,
          664.2956519,
          13445.593416057367,
          13792.92605,
          8123.180873,
          5805.605385,
          775.0800846,
          405.5425009,
          1528.24472,
          11824.6381,
          1534.973724,
          12149.18958,
          13445.593416057367,
          13445.593416057367,
          23541.48825,
          18483.71648,
          53578.75657,
          13445.593416057367,
          7906.721671,
          6722.223536,
          6018.526868,
          3477.851743,
          4223.584579,
          8747.353473,
          13445.593416057367,
          17736.8027,
          706.7574751,
          13445.593416057367,
          5233.469423,
          43401.22834,
          36857.11923,
          13445.593416057367,
          7179.340661,
          473.1904366,
          3865.785693,
          42161.31966,
          1513.461034,
          13445.593416057367,
          17890.57494,
          13445.593416057367,
          9841.76405,
          35562.56753,
          4146.744129,
          661.5277734,
          641.5959647,
          4529.139412,
          739.5954363,
          2361.160205,
          43740.99288,
          12820.0882,
          59764.70538,
          1709.591808,
          3570.294888,
          5219.109408,
          4609.600694,
          64175.43824,
          13445.593416057367,
          37180.52711,
          30661.22181,
          4878.575791,
          38900.56931,
          4087.937517,
          7714.693568,
          1455.359765,
          1587.057869,
          13445.593416057367,
          27538.80613,
          3661.429847,
          27359.23033,
          1077.603082,
          2338.692157,
          14071.02723,
          8257.294391,
          1039.704072,
          455.3707414,
          13445.593416057367,
          13445.593416057367,
          14900.7789,
          100738.6842,
          74017.18471,
          5237.14767,
          401.7422696,
          300.3076651,
          9508.23775,
          9875.278428,
          779.9448438,
          25145.39315,
          3665.207477,
          1101.901627,
          9630.944028,
          8208.555984,
          3143.749107,
          1900.226088,
          13445.593416057367,
          3694.082552,
          7028.934799,
          2892.775561,
          382.0693304,
          1195.515372,
          4414.978947,
          7821.298918,
          729.1222515,
          45637.88675,
          13445.593416057367,
          39412.15943,
          2151.382047,
          13445.593416057367,
          2175.673442,
          22572.37882,
          70868.1225,
          14982.35792,
          1443.625016,
          14428.14026,
          13680.23601,
          2500.091116,
          4077.742073,
          6049.232578,
          2951.071929,
          12414.09873,
          19838.02723,
          30790.10479,
          59324.33877,
          9522.771041,
          8748.368853,
          702.8356016,
          4030.013144,
          47908.56141,
          1714.680184,
          20028.64821,
          952.7683234,
          5426.198279,
          15075.71944,
          505.2045112,
          52962.49157,
          13445.593416057367,
          16529.54097,
          21650.21276,
          2005.483643,
          434.2088097,
          5274.546008,
          13445.593416057367,
          26616.4881,
          3909.989066,
          16596.82639,
          9364.821525,
          13445.593416057367,
          7006.596196,
          2415.038162,
          5871.442003,
          2770.199475,
          51844.76126,
          79887.51824,
          13445.593416057367,
          795.8438644,
          877.507612,
          5910.620932,
          1405.387212,
          578.4616936,
          3748.641794,
          16040.52424,
          3688.646375,
          10862.6004,
          6389.334143,
          13445.593416057367,
          3083.615251,
          580.3835385,
          2185.728031,
          37622.20746,
          40367.03784,
          57638.15909,
          15220.56603,
          2110.667754,
          2860.566475,
          13445.593416057367,
          2170.648054,
          13445.593416057367,
          2943.404534,
          990.334774,
          1269.573537,
          1029.076649
         ],
         "xaxis": "x",
         "y": [
          53.08340532426554,
          100.03829565217391,
          17.048902063197495,
          277.995,
          164.4276595744681,
          23.111785513756317,
          229.46136363636364,
          15.770187742770824,
          98.34620040349698,
          582.3444444444444,
          3.1167127403690893,
          104.28543497180462,
          112.72833718244804,
          28.186743515850143,
          1848.4708171206225,
          1103.7835128361444,
          662.7813953488372,
          45.795375722543355,
          371.70517523747134,
          15.975359164127122,
          94.73943882886023,
          1306.62,
          20.778376829712975,
          9.910868575797847,
          68.67439953134154,
          3.868220652192598,
          24.384508388554412,
          204.40666666666667,
          73.34419410745234,
          64.21461261261261,
          67.99807818539858,
          378.15727632051744,
          133.88585607940448,
          87.06567609368095,
          49.29999369005553,
          3.6342137496782567,
          230.17045454545453,
          7.375230344473338,
          11.255874610591901,
          866.0052631578948,
          23.687142902488574,
          144.1679212532669,
          42.61306031360658,
          427.5126276195594,
          33.57818931620651,
          14.987780701754385,
          95.05428571428571,
          73.484832227253,
          73.69853330977205,
          104.4410447761194,
          360.3581081081081,
          126.5,
          133.9119183466464,
          133.52402031592192,
          40.617801724137934,
          98.05733333333333,
          218.79578795972878,
          63.91179935249834,
          95.55013330670528,
          301.55522813688214,
          43.54688057040998,
          291.85850233843536,
          29.10636745522883,
          92.7313193878475,
          35.18409742120344,
          49.19321291735085,
          16.237503693635126,
          121.8315294297625,
          70.052,
          7.396368662905817,
          180.3983185840708,
          53.36154949784792,
          231.31592422631374,
          118.24737151001928,
          3440.8,
          81.43937556835405,
          0.13688878060665124,
          315.63823529411764,
          301.6592592592593,
          152.28642666911563,
          50.41862848775726,
          50.25458068087462,
          3.5972600828022516,
          390.8949189189189,
          81.01046315228021,
          6648.597285067874,
          105.53539718370418,
          3.245165048543689,
          402.8192953460619,
          136.6430582789227,
          46.00030255278916,
          85.51332490518331,
          67.91540978941377,
          146.90701754385964,
          387.2723153602175,
          201.1037034578881,
          262.1797088262056,
          335.99809240082334,
          105.86433049708911,
          6.531255802960987,
          83.50115788204077,
          141.2283950617284,
          210.45810519329683,
          511.02619664938175,
          166.82281620281069,
          227.41773288439956,
          30.421257420642263,
          28.54034206081081,
          30.398883547836874,
          574.8007655502392,
          72.58962450592885,
          41.42788003950795,
          3.5766467372154085,
          235.4125,
          43.99561927518917,
          225.0857142857143,
          20203.531353135313,
          80.94928043562815,
          42.388494708792,
          152.69729068197165,
          94.27831015719468,
          1391.64,
          14.509742055652763,
          1365.459375,
          294.81111111111113,
          4.172909673037742,
          619.3495098039216,
          64.9265534163451,
          149.91,
          104.93353028064993,
          19249.5,
          1.9355279646062962,
          45.09637943519189,
          78.99851304445191,
          36.06479521629263,
          78.16435803071283,
          3.0083016899392203,
          652.45,
          196.92058024188069,
          409.6872412132884,
          14.96232508073197,
          17.52904262074633,
          47.17287719567385,
          16.31648539857932,
          201.3376056810678,
          119.61521739130434,
          13.585742176344443,
          14.29648465266559,
          242.687446300716,
          46.745652173913044,
          53.48871652081676,
          17.468220119263677,
          16.534173157108018,
          24.722490312942533,
          344.40074,
          121.3637456824869,
          111.95024125779344,
          384.589289740699,
          221.34401378122308,
          82.65993120516801,
          8.441939730674191,
          452.44905087319665,
          68.70598591549296,
          553.3833333333333,
          208.23958333333334,
          15.014112267350177,
          78.3468761120431,
          79.87111815301041,
          205.8195652173913,
          102.29861687413555,
          7798.724617524339,
          1176.6176470588234,
          110.71079840929949,
          101.86704489393192,
          20.74114186851211,
          22.453966063419376,
          45.86114642889368,
          18.98208992286561,
          91.79736530023322,
          323.16720012193264,
          210.85,
          287.1209677419355,
          587.2977941176471,
          281.13589743589745,
          21.059765371942273,
          3.408423879868148,
          77.36739631336405,
          22.13383845156676,
          202.76333252603536,
          99.52723296252294,
          61.78524643503848,
          58.66378232872374,
          134.20547630183972,
          85.31748486886349,
          133.93861595351294,
          142.82933333333332,
          266.07446393762183,
          69.6977446366359,
          101.24457375692367,
          11.60119647613194,
          36.73684210526316,
          369.9,
          171.75725522666116,
          74.56655620909618,
          110.88052631578947,
          269.4357333442798,
          32.86651928340611,
          19.543786176370446,
          71.18506928922665,
          22.18228055783429,
          34.61233375363193,
          280.0916707708019,
          294.1457142857143,
          756.0740863787375,
          52.24579616266076,
          22.045136259151487,
          41.3306428498311
         ],
         "yaxis": "y"
        }
       ],
       "layout": {
        "coloraxis": {
         "colorbar": {
          "title": {
           "text": "color"
          }
         },
         "colorscale": [
          [
           0,
           "#0d0887"
          ],
          [
           0.1111111111111111,
           "#46039f"
          ],
          [
           0.2222222222222222,
           "#7201a8"
          ],
          [
           0.3333333333333333,
           "#9c179e"
          ],
          [
           0.4444444444444444,
           "#bd3786"
          ],
          [
           0.5555555555555556,
           "#d8576b"
          ],
          [
           0.6666666666666666,
           "#ed7953"
          ],
          [
           0.7777777777777778,
           "#fb9f3a"
          ],
          [
           0.8888888888888888,
           "#fdca26"
          ],
          [
           1,
           "#f0f921"
          ]
         ],
         "showscale": false
        },
        "height": 600,
        "legend": {
         "tracegroupgap": 0
        },
        "margin": {
         "t": 60
        },
        "template": {
         "data": {
          "bar": [
           {
            "error_x": {
             "color": "#2a3f5f"
            },
            "error_y": {
             "color": "#2a3f5f"
            },
            "marker": {
             "line": {
              "color": "#E5ECF6",
              "width": 0.5
             },
             "pattern": {
              "fillmode": "overlay",
              "size": 10,
              "solidity": 0.2
             }
            },
            "type": "bar"
           }
          ],
          "barpolar": [
           {
            "marker": {
             "line": {
              "color": "#E5ECF6",
              "width": 0.5
             },
             "pattern": {
              "fillmode": "overlay",
              "size": 10,
              "solidity": 0.2
             }
            },
            "type": "barpolar"
           }
          ],
          "carpet": [
           {
            "aaxis": {
             "endlinecolor": "#2a3f5f",
             "gridcolor": "white",
             "linecolor": "white",
             "minorgridcolor": "white",
             "startlinecolor": "#2a3f5f"
            },
            "baxis": {
             "endlinecolor": "#2a3f5f",
             "gridcolor": "white",
             "linecolor": "white",
             "minorgridcolor": "white",
             "startlinecolor": "#2a3f5f"
            },
            "type": "carpet"
           }
          ],
          "choropleth": [
           {
            "colorbar": {
             "outlinewidth": 0,
             "ticks": ""
            },
            "type": "choropleth"
           }
          ],
          "contour": [
           {
            "colorbar": {
             "outlinewidth": 0,
             "ticks": ""
            },
            "colorscale": [
             [
              0,
              "#0d0887"
             ],
             [
              0.1111111111111111,
              "#46039f"
             ],
             [
              0.2222222222222222,
              "#7201a8"
             ],
             [
              0.3333333333333333,
              "#9c179e"
             ],
             [
              0.4444444444444444,
              "#bd3786"
             ],
             [
              0.5555555555555556,
              "#d8576b"
             ],
             [
              0.6666666666666666,
              "#ed7953"
             ],
             [
              0.7777777777777778,
              "#fb9f3a"
             ],
             [
              0.8888888888888888,
              "#fdca26"
             ],
             [
              1,
              "#f0f921"
             ]
            ],
            "type": "contour"
           }
          ],
          "contourcarpet": [
           {
            "colorbar": {
             "outlinewidth": 0,
             "ticks": ""
            },
            "type": "contourcarpet"
           }
          ],
          "heatmap": [
           {
            "colorbar": {
             "outlinewidth": 0,
             "ticks": ""
            },
            "colorscale": [
             [
              0,
              "#0d0887"
             ],
             [
              0.1111111111111111,
              "#46039f"
             ],
             [
              0.2222222222222222,
              "#7201a8"
             ],
             [
              0.3333333333333333,
              "#9c179e"
             ],
             [
              0.4444444444444444,
              "#bd3786"
             ],
             [
              0.5555555555555556,
              "#d8576b"
             ],
             [
              0.6666666666666666,
              "#ed7953"
             ],
             [
              0.7777777777777778,
              "#fb9f3a"
             ],
             [
              0.8888888888888888,
              "#fdca26"
             ],
             [
              1,
              "#f0f921"
             ]
            ],
            "type": "heatmap"
           }
          ],
          "heatmapgl": [
           {
            "colorbar": {
             "outlinewidth": 0,
             "ticks": ""
            },
            "colorscale": [
             [
              0,
              "#0d0887"
             ],
             [
              0.1111111111111111,
              "#46039f"
             ],
             [
              0.2222222222222222,
              "#7201a8"
             ],
             [
              0.3333333333333333,
              "#9c179e"
             ],
             [
              0.4444444444444444,
              "#bd3786"
             ],
             [
              0.5555555555555556,
              "#d8576b"
             ],
             [
              0.6666666666666666,
              "#ed7953"
             ],
             [
              0.7777777777777778,
              "#fb9f3a"
             ],
             [
              0.8888888888888888,
              "#fdca26"
             ],
             [
              1,
              "#f0f921"
             ]
            ],
            "type": "heatmapgl"
           }
          ],
          "histogram": [
           {
            "marker": {
             "pattern": {
              "fillmode": "overlay",
              "size": 10,
              "solidity": 0.2
             }
            },
            "type": "histogram"
           }
          ],
          "histogram2d": [
           {
            "colorbar": {
             "outlinewidth": 0,
             "ticks": ""
            },
            "colorscale": [
             [
              0,
              "#0d0887"
             ],
             [
              0.1111111111111111,
              "#46039f"
             ],
             [
              0.2222222222222222,
              "#7201a8"
             ],
             [
              0.3333333333333333,
              "#9c179e"
             ],
             [
              0.4444444444444444,
              "#bd3786"
             ],
             [
              0.5555555555555556,
              "#d8576b"
             ],
             [
              0.6666666666666666,
              "#ed7953"
             ],
             [
              0.7777777777777778,
              "#fb9f3a"
             ],
             [
              0.8888888888888888,
              "#fdca26"
             ],
             [
              1,
              "#f0f921"
             ]
            ],
            "type": "histogram2d"
           }
          ],
          "histogram2dcontour": [
           {
            "colorbar": {
             "outlinewidth": 0,
             "ticks": ""
            },
            "colorscale": [
             [
              0,
              "#0d0887"
             ],
             [
              0.1111111111111111,
              "#46039f"
             ],
             [
              0.2222222222222222,
              "#7201a8"
             ],
             [
              0.3333333333333333,
              "#9c179e"
             ],
             [
              0.4444444444444444,
              "#bd3786"
             ],
             [
              0.5555555555555556,
              "#d8576b"
             ],
             [
              0.6666666666666666,
              "#ed7953"
             ],
             [
              0.7777777777777778,
              "#fb9f3a"
             ],
             [
              0.8888888888888888,
              "#fdca26"
             ],
             [
              1,
              "#f0f921"
             ]
            ],
            "type": "histogram2dcontour"
           }
          ],
          "mesh3d": [
           {
            "colorbar": {
             "outlinewidth": 0,
             "ticks": ""
            },
            "type": "mesh3d"
           }
          ],
          "parcoords": [
           {
            "line": {
             "colorbar": {
              "outlinewidth": 0,
              "ticks": ""
             }
            },
            "type": "parcoords"
           }
          ],
          "pie": [
           {
            "automargin": true,
            "type": "pie"
           }
          ],
          "scatter": [
           {
            "fillpattern": {
             "fillmode": "overlay",
             "size": 10,
             "solidity": 0.2
            },
            "type": "scatter"
           }
          ],
          "scatter3d": [
           {
            "line": {
             "colorbar": {
              "outlinewidth": 0,
              "ticks": ""
             }
            },
            "marker": {
             "colorbar": {
              "outlinewidth": 0,
              "ticks": ""
             }
            },
            "type": "scatter3d"
           }
          ],
          "scattercarpet": [
           {
            "marker": {
             "colorbar": {
              "outlinewidth": 0,
              "ticks": ""
             }
            },
            "type": "scattercarpet"
           }
          ],
          "scattergeo": [
           {
            "marker": {
             "colorbar": {
              "outlinewidth": 0,
              "ticks": ""
             }
            },
            "type": "scattergeo"
           }
          ],
          "scattergl": [
           {
            "marker": {
             "colorbar": {
              "outlinewidth": 0,
              "ticks": ""
             }
            },
            "type": "scattergl"
           }
          ],
          "scattermapbox": [
           {
            "marker": {
             "colorbar": {
              "outlinewidth": 0,
              "ticks": ""
             }
            },
            "type": "scattermapbox"
           }
          ],
          "scatterpolar": [
           {
            "marker": {
             "colorbar": {
              "outlinewidth": 0,
              "ticks": ""
             }
            },
            "type": "scatterpolar"
           }
          ],
          "scatterpolargl": [
           {
            "marker": {
             "colorbar": {
              "outlinewidth": 0,
              "ticks": ""
             }
            },
            "type": "scatterpolargl"
           }
          ],
          "scatterternary": [
           {
            "marker": {
             "colorbar": {
              "outlinewidth": 0,
              "ticks": ""
             }
            },
            "type": "scatterternary"
           }
          ],
          "surface": [
           {
            "colorbar": {
             "outlinewidth": 0,
             "ticks": ""
            },
            "colorscale": [
             [
              0,
              "#0d0887"
             ],
             [
              0.1111111111111111,
              "#46039f"
             ],
             [
              0.2222222222222222,
              "#7201a8"
             ],
             [
              0.3333333333333333,
              "#9c179e"
             ],
             [
              0.4444444444444444,
              "#bd3786"
             ],
             [
              0.5555555555555556,
              "#d8576b"
             ],
             [
              0.6666666666666666,
              "#ed7953"
             ],
             [
              0.7777777777777778,
              "#fb9f3a"
             ],
             [
              0.8888888888888888,
              "#fdca26"
             ],
             [
              1,
              "#f0f921"
             ]
            ],
            "type": "surface"
           }
          ],
          "table": [
           {
            "cells": {
             "fill": {
              "color": "#EBF0F8"
             },
             "line": {
              "color": "white"
             }
            },
            "header": {
             "fill": {
              "color": "#C8D4E3"
             },
             "line": {
              "color": "white"
             }
            },
            "type": "table"
           }
          ]
         },
         "layout": {
          "annotationdefaults": {
           "arrowcolor": "#2a3f5f",
           "arrowhead": 0,
           "arrowwidth": 1
          },
          "autotypenumbers": "strict",
          "coloraxis": {
           "colorbar": {
            "outlinewidth": 0,
            "ticks": ""
           }
          },
          "colorscale": {
           "diverging": [
            [
             0,
             "#8e0152"
            ],
            [
             0.1,
             "#c51b7d"
            ],
            [
             0.2,
             "#de77ae"
            ],
            [
             0.3,
             "#f1b6da"
            ],
            [
             0.4,
             "#fde0ef"
            ],
            [
             0.5,
             "#f7f7f7"
            ],
            [
             0.6,
             "#e6f5d0"
            ],
            [
             0.7,
             "#b8e186"
            ],
            [
             0.8,
             "#7fbc41"
            ],
            [
             0.9,
             "#4d9221"
            ],
            [
             1,
             "#276419"
            ]
           ],
           "sequential": [
            [
             0,
             "#0d0887"
            ],
            [
             0.1111111111111111,
             "#46039f"
            ],
            [
             0.2222222222222222,
             "#7201a8"
            ],
            [
             0.3333333333333333,
             "#9c179e"
            ],
            [
             0.4444444444444444,
             "#bd3786"
            ],
            [
             0.5555555555555556,
             "#d8576b"
            ],
            [
             0.6666666666666666,
             "#ed7953"
            ],
            [
             0.7777777777777778,
             "#fb9f3a"
            ],
            [
             0.8888888888888888,
             "#fdca26"
            ],
            [
             1,
             "#f0f921"
            ]
           ],
           "sequentialminus": [
            [
             0,
             "#0d0887"
            ],
            [
             0.1111111111111111,
             "#46039f"
            ],
            [
             0.2222222222222222,
             "#7201a8"
            ],
            [
             0.3333333333333333,
             "#9c179e"
            ],
            [
             0.4444444444444444,
             "#bd3786"
            ],
            [
             0.5555555555555556,
             "#d8576b"
            ],
            [
             0.6666666666666666,
             "#ed7953"
            ],
            [
             0.7777777777777778,
             "#fb9f3a"
            ],
            [
             0.8888888888888888,
             "#fdca26"
            ],
            [
             1,
             "#f0f921"
            ]
           ]
          },
          "colorway": [
           "#636efa",
           "#EF553B",
           "#00cc96",
           "#ab63fa",
           "#FFA15A",
           "#19d3f3",
           "#FF6692",
           "#B6E880",
           "#FF97FF",
           "#FECB52"
          ],
          "font": {
           "color": "#2a3f5f"
          },
          "geo": {
           "bgcolor": "white",
           "lakecolor": "white",
           "landcolor": "#E5ECF6",
           "showlakes": true,
           "showland": true,
           "subunitcolor": "white"
          },
          "hoverlabel": {
           "align": "left"
          },
          "hovermode": "closest",
          "mapbox": {
           "style": "light"
          },
          "paper_bgcolor": "white",
          "plot_bgcolor": "#E5ECF6",
          "polar": {
           "angularaxis": {
            "gridcolor": "white",
            "linecolor": "white",
            "ticks": ""
           },
           "bgcolor": "#E5ECF6",
           "radialaxis": {
            "gridcolor": "white",
            "linecolor": "white",
            "ticks": ""
           }
          },
          "scene": {
           "xaxis": {
            "backgroundcolor": "#E5ECF6",
            "gridcolor": "white",
            "gridwidth": 2,
            "linecolor": "white",
            "showbackground": true,
            "ticks": "",
            "zerolinecolor": "white"
           },
           "yaxis": {
            "backgroundcolor": "#E5ECF6",
            "gridcolor": "white",
            "gridwidth": 2,
            "linecolor": "white",
            "showbackground": true,
            "ticks": "",
            "zerolinecolor": "white"
           },
           "zaxis": {
            "backgroundcolor": "#E5ECF6",
            "gridcolor": "white",
            "gridwidth": 2,
            "linecolor": "white",
            "showbackground": true,
            "ticks": "",
            "zerolinecolor": "white"
           }
          },
          "shapedefaults": {
           "line": {
            "color": "#2a3f5f"
           }
          },
          "ternary": {
           "aaxis": {
            "gridcolor": "white",
            "linecolor": "white",
            "ticks": ""
           },
           "baxis": {
            "gridcolor": "white",
            "linecolor": "white",
            "ticks": ""
           },
           "bgcolor": "#E5ECF6",
           "caxis": {
            "gridcolor": "white",
            "linecolor": "white",
            "ticks": ""
           }
          },
          "title": {
           "x": 0.05
          },
          "xaxis": {
           "automargin": true,
           "gridcolor": "white",
           "linecolor": "white",
           "ticks": "",
           "title": {
            "standoff": 15
           },
           "zerolinecolor": "white",
           "zerolinewidth": 2
          },
          "yaxis": {
           "automargin": true,
           "gridcolor": "white",
           "linecolor": "white",
           "ticks": "",
           "title": {
            "standoff": 15
           },
           "zerolinecolor": "white",
           "zerolinewidth": 2
          }
         }
        },
        "width": 800,
        "xaxis": {
         "anchor": "y",
         "domain": [
          0,
          1
         ],
         "title": {
          "text": "GDP per capita"
         }
        },
        "yaxis": {
         "anchor": "x",
         "domain": [
          0,
          1
         ],
         "title": {
          "text": "Population density"
         }
        }
       }
      }
     },
     "metadata": {},
     "output_type": "display_data"
    }
   ],
   "source": [
    "fig = px.scatter(\n",
    "    df, x='GDP per capita', y='Population density', color=km.labels_,\n",
    "    hover_data=['Country Name', 'Region'],\n",
    "    width=800, height=600\n",
    ")\n",
    "\n",
    "fig.update(layout_coloraxis_showscale=False)\n",
    "\n",
    "fig.show()"
   ]
  },
  {
   "cell_type": "code",
   "execution_count": 300,
   "metadata": {},
   "outputs": [
    {
     "data": {
      "image/png": "[encoded data removed]",
      "text/plain": [
       "<Figure size 1500x1000 with 5 Axes>"
      ]
     },
     "metadata": {},
     "output_type": "display_data"
    }
   ],
   "source": [
    "fig, axes = plt.subplots(2, 3, figsize=(15, 10))\n",
    "\n",
    "labels = df.columns[2:]\n",
    "\n",
    "for i in range(len(labels)):\n",
    "    ax_i = (i // 3,  i % 3)\n",
    "    axes[ax_i].set_title(labels[i])\n",
    "    axes[ax_i].grid('-')\n",
    "    axes[ax_i].hist(df[labels[i]])\n",
    "\n",
    "fig.delaxes(axes[1][2])\n"
   ]
  },
  {
   "cell_type": "code",
   "execution_count": 301,
   "metadata": {},
   "outputs": [],
   "source": [
    "import numpy as np\n",
    "from scipy.stats import pearsonr\n",
    "\n",
    "def linear_relationship(x, y):\n",
    "    # Calculating the correlation coefficient and p-value\n",
    "    corr, p_value = pearsonr(x, y)\n",
    "    print(f'Correlation coefficient: {corr}')\n",
    "    \n",
    "    # Checking if the absolute value of the correlation coefficient is greater than 0.8\n",
    "    if abs(corr) > 0.8:\n",
    "        return True\n",
    "    else:\n",
    "        return False\n"
   ]
  },
  {
   "cell_type": "code",
   "execution_count": 302,
   "metadata": {},
   "outputs": [
    {
     "name": "stdout",
     "output_type": "stream",
     "text": [
      "Correlation coefficient: -0.8223789298733445\n"
     ]
    },
    {
     "data": {
      "text/plain": [
       "True"
      ]
     },
     "execution_count": 302,
     "metadata": {},
     "output_type": "execute_result"
    }
   ],
   "source": [
    "# 1000 random integers between 0 and 50\n",
    "x = np.random.randint(0, 50, 1000)\n",
    "\n",
    "# Negative Correlation with some noise\n",
    "y = -x + np.random.normal(0, 10, 1000)\n",
    "\n",
    "linear_relationship(x, y)"
   ]
  }
 ],
 "metadata": {
  "kernelspec": {
   "display_name": "Python 3",
   "language": "python",
   "name": "python3"
  },
  "language_info": {
   "codemirror_mode": {
    "name": "ipython",
    "version": 3
   },
   "file_extension": ".py",
   "mimetype": "text/x-python",
   "name": "python",
   "nbconvert_exporter": "python",
   "pygments_lexer": "ipython3",
   "version": "3.9.6"
  },
  "orig_nbformat": 4
 },
 "nbformat": 4,
 "nbformat_minor": 2
}
