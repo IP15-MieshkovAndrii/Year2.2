{
 "cells": [
  {
   "cell_type": "code",
   "execution_count": 63,
   "metadata": {},
   "outputs": [
    {
     "name": "stdout",
     "output_type": "stream",
     "text": [
      "[6, 7, 8, 8, 8, 9, 9, 10, 11, 11, 11, 11, 11, 11, 12, 12, 12, 12, 12, 12, 12, 12, 12, 12, 12, 13, 13, 13, 13, 13, 13, 13, 13, 14, 14, 14, 14, 14, 15, 15, 15, 15, 15, 15, 16, 16, 16, 17, 17, 18, 18, 18, 18, 18, 19, 20, 20, 21, 21, 26]\n",
      "Statistic: 0.9828412532806396, p-value: 0.5596830248832703\n",
      "Розподіл є нормальним\n",
      "[16 13 15 20 12 14 17 10 14 13 15 21 18 15 10 14 21 13 12 12 16 22 10 16\n",
      " 17 18 13 16 10 18 19 12 11 19 21 13  8 23 20 13 11  8  9 16 19 14 13  8\n",
      " 19 14 17  5 18  5 15 20 14 10 13 18]\n",
      "[ 0.99999971 -4.00000029]\n"
     ]
    }
   ],
   "source": [
    "import numpy as np\n",
    "from scipy import stats\n",
    "\n",
    "# Задаємо параметри для генерування нормального розподілу\n",
    "mean = 300  # Середнє значення\n",
    "std_dev = 4  # Стандартне відхилення\n",
    "sample_size = 60  # Розмір вибірки\n",
    "\n",
    "# Генеруємо випадкову вибірку з нормального розподілу\n",
    "sample = np.random.normal(mean, std_dev, sample_size)\n",
    "# Перетворюємо значення на цілі числа\n",
    "sample = sample.astype(int)\n",
    "\n",
    "# print(sorted_array)\n",
    "# Перевіряємо нормальність розподілу за допомогою тесту Шапіро-Вілка\n",
    "statistic, p_value = stats.shapiro(sample)\n",
    "\n",
    "# Виводимо результати\n",
    "alpha = 0.05  # Рівень значущості\n",
    "print(f'Statistic: {statistic}, p-value: {p_value}')\n",
    "if p_value > alpha:\n",
    "    print('Розподіл є нормальним')\n",
    "else:\n",
    "    print('Розподіл не є нормальним')\n",
    "\n",
    "# Виводимо згенеровану вибірку\n",
    "print(sample)\n",
    "\n",
    "\n",
    "from scipy.stats import norm\n",
    "\n",
    "x = 5\n",
    "laplace_value = norm.cdf(x)\n",
    "laplace_value -= 0,5\n",
    "\n",
    "print(laplace_value)"
   ]
  },
  {
   "cell_type": "code",
   "execution_count": 64,
   "metadata": {},
   "outputs": [
    {
     "name": "stdout",
     "output_type": "stream",
     "text": [
      "Коефіцієнт перетину: 1.7763568394002505e-15\n",
      "Коефіцієнти регресії: [0.6 1.2]\n"
     ]
    }
   ],
   "source": [
    "import numpy as np\n",
    "from sklearn.linear_model import LinearRegression\n",
    "\n",
    "# Задаємо дані\n",
    "x1 = np.array([1, 2, 3, 4, 5])\n",
    "x2 = np.array([2, 4, 6, 8, 10])\n",
    "y = np.array([3, 6, 9, 12, 15])\n",
    "\n",
    "# Об'єднуємо вхідні змінні в матрицю ознак X\n",
    "X = np.column_stack((x1, x2))\n",
    "\n",
    "# Створюємо та навчаємо модель лінійної регресії\n",
    "model = LinearRegression()\n",
    "model.fit(X, y)\n",
    "\n",
    "# Отримуємо коефіцієнти регресії\n",
    "intercept = model.intercept_\n",
    "coefficients = model.coef_\n",
    "\n",
    "# Виводимо результати\n",
    "print(\"Коефіцієнт перетину:\", intercept)\n",
    "print(\"Коефіцієнти регресії:\", coefficients)\n"
   ]
  },
  {
   "cell_type": "code",
   "execution_count": 60,
   "metadata": {},
   "outputs": [
    {
     "name": "stdout",
     "output_type": "stream",
     "text": [
      "1.6765508919142629\n",
      "Довірчий інтервал: (6.847681312034677, 8.021366307965323)\n"
     ]
    }
   ],
   "source": [
    "import scipy.stats as stats\n",
    "import numpy as np\n",
    "\n",
    "# Вхідні дані\n",
    "sample_mean = 7.43452381  # вибіркове середнє\n",
    "known_variance = 7.351244753  # відома дисперсія\n",
    "sample_size = 60  # розмір вибірки\n",
    "confidence_level = 0.05  # рівень довіри\n",
    "\n",
    "# Обчислення критичного значення t\n",
    "degrees_of_freedom = sample_size - 1\n",
    "t_critical = stats.t.ppf(0.95, 49)\n",
    "print(t_critical)\n",
    "\n",
    "# Обчислення довірчого інтервалу\n",
    "standard_error = np.sqrt(known_variance) / np.sqrt(sample_size)\n",
    "confidence_interval = (sample_mean - t_critical * standard_error, sample_mean + t_critical * standard_error)\n",
    "\n",
    "print(\"Довірчий інтервал:\", confidence_interval)"
   ]
  },
  {
   "cell_type": "code",
   "execution_count": 61,
   "metadata": {},
   "outputs": [
    {
     "name": "stdout",
     "output_type": "stream",
     "text": [
      "Ваги (коефіцієнти): [0.30797055 0.21079002]\n",
      "Матриця ознак:\n",
      " [[470  28]\n",
      " [488 486]\n",
      " [475 264]\n",
      " [197 433]\n",
      " [ 65 492]\n",
      " [ 55 275]\n",
      " [298 320]\n",
      " [ 84 125]\n",
      " [138 377]\n",
      " [  9 359]\n",
      " [ 51 125]\n",
      " [368  62]\n",
      " [334 495]\n",
      " [430   2]\n",
      " [351 401]\n",
      " [441   8]\n",
      " [ 34  16]\n",
      " [ 23 281]\n",
      " [413 326]\n",
      " [ 98  53]\n",
      " [235 288]\n",
      " [359 176]\n",
      " [ 12 460]\n",
      " [ 85 201]\n",
      " [105 338]\n",
      " [371 474]\n",
      " [162 434]\n",
      " [400 347]\n",
      " [216 226]\n",
      " [237   9]\n",
      " [343 191]\n",
      " [168 102]\n",
      " [166 422]\n",
      " [207 368]\n",
      " [186 190]\n",
      " [376 471]\n",
      " [ 22 388]\n",
      " [  5 448]\n",
      " [ 95 412]\n",
      " [ 23  12]\n",
      " [214 328]\n",
      " [188 402]\n",
      " [237 462]\n",
      " [325 486]\n",
      " [157 104]\n",
      " [ 29 132]\n",
      " [495 215]\n",
      " [ 38 457]\n",
      " [402 185]\n",
      " [248 329]]\n",
      "Дані збережені в файлі linear_regression_data.csv\n"
     ]
    }
   ],
   "source": [
    "import numpy as np\n",
    "\n",
    "# Вхідні дані\n",
    "n_samples = 50  # Кількість зразків\n",
    "n_features = 2  # Кількість ознак\n",
    "\n",
    "# Генерація випадкових ваг (ідеальні коефіцієнти)\n",
    "true_coeffs = np.random.rand(n_features)\n",
    "\n",
    "# Генерація матриці ознак (випадкові цілі значення)\n",
    "X = np.random.randint(0, 500, size=(n_samples, n_features))\n",
    "\n",
    "# Генерація цільових значень (відповідей) за формулою лінійної регресії\n",
    "y = np.dot(X, true_coeffs).astype(int)\n",
    "\n",
    "# Збереження даних у CSV файл\n",
    "data = np.column_stack((X, y))  # Об'єднати матрицю ознак X з цільовими значеннями y\n",
    "# print(data)\n",
    "header = ['Feature 1', 'Feature 2', 'Target']  # Заголовки стовпців\n",
    "np.savetxt('linear_regression_data.csv', data, delimiter=',', header=','.join(header), comments='')\n",
    "\n",
    "# Вивід результатів\n",
    "print(\"Ваги (коефіцієнти):\", true_coeffs)\n",
    "print(\"Матриця ознак:\\n\", X)\n",
    "# print(\"Цільові значення:\\n\", y)\n",
    "print(\"Дані збережені в файлі linear_regression_data.csv\")\n",
    "\n",
    "\n",
    "\n"
   ]
  },
  {
   "cell_type": "code",
   "execution_count": 62,
   "metadata": {},
   "outputs": [
    {
     "name": "stdout",
     "output_type": "stream",
     "text": [
      "Цільові значення:\n",
      " [150 252 201 151 123  74 159  52 121  78  42 126 207 132 192 137  13  66\n",
      " 195  41 133 147 100  68 103 214 141 196 114  74 145  73 140 141  97 215\n",
      "  88  95 116   9 135 142 170 202  70  36 197 108 162 145]\n"
     ]
    }
   ],
   "source": [
    "print(\"Цільові значення:\\n\", y)"
   ]
  },
  {
   "cell_type": "code",
   "execution_count": null,
   "metadata": {},
   "outputs": [],
   "source": []
  }
 ],
 "metadata": {
  "kernelspec": {
   "display_name": "Python 3",
   "language": "python",
   "name": "python3"
  },
  "language_info": {
   "codemirror_mode": {
    "name": "ipython",
    "version": 3
   },
   "file_extension": ".py",
   "mimetype": "text/x-python",
   "name": "python",
   "nbconvert_exporter": "python",
   "pygments_lexer": "ipython3",
   "version": "3.9.6"
  },
  "orig_nbformat": 4
 },
 "nbformat": 4,
 "nbformat_minor": 2
}
